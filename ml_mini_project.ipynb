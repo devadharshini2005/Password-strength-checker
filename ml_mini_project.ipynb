{
  "cells": [
    {
      "cell_type": "markdown",
      "metadata": {
        "id": "view-in-github",
        "colab_type": "text"
      },
      "source": [
        "<a href=\"https://colab.research.google.com/github/devadharshini2005/Password-strength-checker/blob/main/ml_mini_project.ipynb\" target=\"_parent\"><img src=\"https://colab.research.google.com/assets/colab-badge.svg\" alt=\"Open In Colab\"/></a>"
      ]
    },
    {
      "cell_type": "code",
      "source": [
        "from google.colab import drive\n",
        "drive.mount('/content/drive')"
      ],
      "metadata": {
        "colab": {
          "base_uri": "https://localhost:8080/"
        },
        "id": "LvsDrwaRJc79",
        "outputId": "9cfd27eb-fb99-4988-f74f-dc627f2fe77b"
      },
      "execution_count": 22,
      "outputs": [
        {
          "output_type": "stream",
          "name": "stdout",
          "text": [
            "Drive already mounted at /content/drive; to attempt to forcibly remount, call drive.mount(\"/content/drive\", force_remount=True).\n"
          ]
        }
      ]
    },
    {
      "cell_type": "code",
      "execution_count": 23,
      "metadata": {
        "id": "W8md3dwH_GHL"
      },
      "outputs": [],
      "source": [
        "import pandas as pd\n",
        "import numpy as np\n",
        "from sklearn.preprocessing import LabelEncoder\n",
        "from sklearn.model_selection import train_test_split\n",
        "from sklearn.tree import DecisionTreeClassifier\n",
        "from sklearn.feature_extraction.text import CountVectorizer\n",
        "from sklearn.feature_extraction.text import TfidfVectorizer\n",
        "from sklearn.metrics import f1_score,precision_score,recall_score,roc_curve,roc_auc_score\n",
        "from matplotlib import pyplot as plt\n",
        "from sklearn.preprocessing import StandardScaler\n",
        "from sklearn.neighbors import KNeighborsClassifier\n",
        "from sklearn.metrics import accuracy_score, classification_report,confusion_matrix\n",
        "import seaborn as sns\n",
        "from sklearn.svm import SVC\n",
        "from sklearn.ensemble import RandomForestClassifier\n",
        "from sklearn.metrics import accuracy_score\n",
        "from sklearn.linear_model import LinearRegression"
      ]
    },
    {
      "cell_type": "code",
      "execution_count": 24,
      "metadata": {
        "id": "VbHDckkb_K7i",
        "colab": {
          "base_uri": "https://localhost:8080/"
        },
        "outputId": "e6d06bcb-f876-486e-a8f5-992bee902093"
      },
      "outputs": [
        {
          "output_type": "stream",
          "name": "stdout",
          "text": [
            "      password  strength\n",
            "0     kzde5577         1\n",
            "1     kino3434         1\n",
            "2    visi7k1yr         1\n",
            "3     megzy123         1\n",
            "4  lamborghin1         1\n"
          ]
        }
      ],
      "source": [
        "data = pd.read_csv(\"/content/drive/MyDrive/ML/Password_Strength_Checker Dataset.csv\")\n",
        "print(data.head())"
      ]
    },
    {
      "cell_type": "code",
      "execution_count": 25,
      "metadata": {
        "colab": {
          "base_uri": "https://localhost:8080/"
        },
        "id": "3T1qAe0o_Vup",
        "outputId": "033cd648-26bd-4cd5-f119-f8637b0de93e"
      },
      "outputs": [
        {
          "output_type": "stream",
          "name": "stdout",
          "text": [
            "                      password strength\n",
            "580928               yrepum808   Medium\n",
            "444907               je4677135   Medium\n",
            "239271              ajexulu677   Medium\n",
            "340599                hkpietu1   Medium\n",
            "320889  y&#305;lmazy&#305;lmaz   Strong\n"
          ]
        },
        {
          "output_type": "stream",
          "name": "stderr",
          "text": [
            "/tmp/ipython-input-25-1273898201.py:2: SettingWithCopyWarning: \n",
            "A value is trying to be set on a copy of a slice from a DataFrame.\n",
            "Try using .loc[row_indexer,col_indexer] = value instead\n",
            "\n",
            "See the caveats in the documentation: https://pandas.pydata.org/pandas-docs/stable/user_guide/indexing.html#returning-a-view-versus-a-copy\n",
            "  data[\"strength\"] = data[\"strength\"].map({0: \"Weak\",1: \"Medium\",2: \"Strong\"})\n"
          ]
        }
      ],
      "source": [
        "data = data.dropna()\n",
        "data[\"strength\"] = data[\"strength\"].map({0: \"Weak\",1: \"Medium\",2: \"Strong\"})\n",
        "print(data.sample(5))"
      ]
    },
    {
      "cell_type": "code",
      "execution_count": 26,
      "metadata": {
        "colab": {
          "base_uri": "https://localhost:8080/",
          "height": 147
        },
        "id": "0_I2BB2p_ZS8",
        "outputId": "8ec7c30f-b878-43f6-9745-e206514b64bf"
      },
      "outputs": [
        {
          "output_type": "execute_result",
          "data": {
            "text/plain": [
              "password    False\n",
              "strength    False\n",
              "dtype: bool"
            ],
            "text/html": [
              "<div>\n",
              "<style scoped>\n",
              "    .dataframe tbody tr th:only-of-type {\n",
              "        vertical-align: middle;\n",
              "    }\n",
              "\n",
              "    .dataframe tbody tr th {\n",
              "        vertical-align: top;\n",
              "    }\n",
              "\n",
              "    .dataframe thead th {\n",
              "        text-align: right;\n",
              "    }\n",
              "</style>\n",
              "<table border=\"1\" class=\"dataframe\">\n",
              "  <thead>\n",
              "    <tr style=\"text-align: right;\">\n",
              "      <th></th>\n",
              "      <th>0</th>\n",
              "    </tr>\n",
              "  </thead>\n",
              "  <tbody>\n",
              "    <tr>\n",
              "      <th>password</th>\n",
              "      <td>False</td>\n",
              "    </tr>\n",
              "    <tr>\n",
              "      <th>strength</th>\n",
              "      <td>False</td>\n",
              "    </tr>\n",
              "  </tbody>\n",
              "</table>\n",
              "</div><br><label><b>dtype:</b> bool</label>"
            ]
          },
          "metadata": {},
          "execution_count": 26
        }
      ],
      "source": [
        "data.isnull().any()"
      ]
    },
    {
      "cell_type": "code",
      "execution_count": 27,
      "metadata": {
        "id": "glv0TLj-_dMR"
      },
      "outputs": [],
      "source": [
        "data_subset = data.sample(n=100000, random_state=42)\n",
        "\n",
        "\n",
        "x = np.array(data_subset[\"password\"])\n",
        "y = np.array(data_subset[\"strength\"])\n",
        "\n",
        "def word(password):\n",
        "    character = [i for i in password]\n",
        "    return character\n",
        "\n",
        "tdif = TfidfVectorizer(analyzer='char')\n",
        "x = tdif.fit_transform(x)\n",
        "xtrain, xtest, ytrain, ytest = train_test_split(x, y, test_size=0.2, random_state=42)\n"
      ]
    },
    {
      "cell_type": "code",
      "execution_count": 28,
      "metadata": {
        "colab": {
          "base_uri": "https://localhost:8080/"
        },
        "id": "BMtu40zX_hma",
        "outputId": "67163095-27c4-4de1-ce9b-f9096ddfee0b"
      },
      "outputs": [
        {
          "output_type": "stream",
          "name": "stdout",
          "text": [
            "strength\n",
            "Medium    74323\n",
            "Weak      13339\n",
            "Strong    12338\n",
            "Name: count, dtype: int64\n"
          ]
        }
      ],
      "source": [
        "import pandas as pd\n",
        "strength_counts = pd.Series(data_subset[\"strength\"]).value_counts()\n",
        "print(strength_counts)"
      ]
    },
    {
      "cell_type": "code",
      "execution_count": 29,
      "metadata": {
        "colab": {
          "base_uri": "https://localhost:8080/"
        },
        "id": "wvZyYXmH_nQc",
        "outputId": "9b9fd4e1-d794-4d21-e941-96c07a1628ab"
      },
      "outputs": [
        {
          "output_type": "stream",
          "name": "stdout",
          "text": [
            "0.77255\n",
            "Classification Report:\n",
            "               precision    recall  f1-score   support\n",
            "\n",
            "      Medium       0.81      0.92      0.86     14811\n",
            "      Strong       0.74      0.52      0.61      2561\n",
            "        Weak       0.39      0.19      0.25      2628\n",
            "\n",
            "    accuracy                           0.77     20000\n",
            "   macro avg       0.64      0.54      0.57     20000\n",
            "weighted avg       0.74      0.77      0.75     20000\n",
            "\n"
          ]
        }
      ],
      "source": [
        "knn_classifier = KNeighborsClassifier(n_neighbors=5)\n",
        "dt=knn_classifier.fit(xtrain, ytrain)\n",
        "print(knn_classifier.score(xtest, ytest))\n",
        "y_pred=knn_classifier.predict(xtest)\n",
        "class_report = classification_report(ytest, y_pred)\n",
        "\n",
        "import joblib\n",
        "\n",
        "# Assume your model is in variable called clf or model\n",
        "joblib.dump(knn_classifier, \"knn_classifier.pkl\")\n",
        "\n",
        "print(\"Classification Report:\\n\", class_report)"
      ]
    },
    {
      "cell_type": "code",
      "execution_count": 30,
      "metadata": {
        "colab": {
          "base_uri": "https://localhost:8080/"
        },
        "id": "pNq5X3oJ_oQf",
        "outputId": "fcbe6263-c57a-474b-bd23-6dcdbf3aa9cf"
      },
      "outputs": [
        {
          "output_type": "stream",
          "name": "stdout",
          "text": [
            "0.81515\n",
            "Classification Report:\n",
            "               precision    recall  f1-score   support\n",
            "\n",
            "      Medium       0.81      0.97      0.89     14811\n",
            "      Strong       0.84      0.69      0.75      2561\n",
            "        Weak       0.73      0.05      0.09      2628\n",
            "\n",
            "    accuracy                           0.82     20000\n",
            "   macro avg       0.79      0.57      0.58     20000\n",
            "weighted avg       0.81      0.82      0.76     20000\n",
            "\n"
          ]
        }
      ],
      "source": [
        "svm_classifier = SVC(kernel='linear', C=1.0)\n",
        "svm_classifier.fit(xtrain, ytrain)\n",
        "y_pred = svm_classifier.predict(xtest)\n",
        "accuracy = accuracy_score(ytest, y_pred)\n",
        "print(accuracy)\n",
        "class_report = classification_report(ytest, y_pred)\n",
        "\n",
        "import joblib\n",
        "\n",
        "# Assume your model is in variable called clf or model\n",
        "joblib.dump(svm_classifier, \"svm_classifier.pkl\")\n",
        "\n",
        "print(\"Classification Report:\\n\", class_report)"
      ]
    },
    {
      "cell_type": "code",
      "execution_count": 31,
      "metadata": {
        "colab": {
          "base_uri": "https://localhost:8080/"
        },
        "id": "4_Bok8mM_ow0",
        "outputId": "6fbc4d18-322f-4ecb-bf94-5f6db7dfd788"
      },
      "outputs": [
        {
          "output_type": "stream",
          "name": "stdout",
          "text": [
            "0.88665\n",
            "Classification Report:\n",
            "               precision    recall  f1-score   support\n",
            "\n",
            "      Medium       0.93      0.93      0.93     14811\n",
            "      Strong       0.85      0.81      0.83      2561\n",
            "        Weak       0.71      0.72      0.71      2628\n",
            "\n",
            "    accuracy                           0.89     20000\n",
            "   macro avg       0.83      0.82      0.82     20000\n",
            "weighted avg       0.89      0.89      0.89     20000\n",
            "\n"
          ]
        }
      ],
      "source": [
        "dt=DecisionTreeClassifier(criterion=\"entropy\")\n",
        "dt.fit(xtrain,ytrain)\n",
        "y_pred=dt.predict(xtest)\n",
        "y_pred\n",
        "accuracy=accuracy_score(y_pred,ytest)\n",
        "print(accuracy)\n",
        "class_report = classification_report(ytest, y_pred)\n",
        "\n",
        "import joblib\n",
        "\n",
        "# Assume your model is in variable called clf or model\n",
        "joblib.dump(dt, \"dt.pkl\")\n",
        "\n",
        "\n",
        "print(\"Classification Report:\\n\", class_report)"
      ]
    },
    {
      "cell_type": "code",
      "execution_count": 32,
      "metadata": {
        "colab": {
          "base_uri": "https://localhost:8080/"
        },
        "id": "HSYcI6mn_uyr",
        "outputId": "83782e38-97ef-40f3-b5ae-9e279aa7a3a1"
      },
      "outputs": [
        {
          "output_type": "stream",
          "name": "stdout",
          "text": [
            "Accuracy: 0.9314\n",
            "Classification Report:\n",
            "               precision    recall  f1-score   support\n",
            "\n",
            "      Medium       0.93      0.98      0.96     14811\n",
            "      Strong       0.96      0.87      0.91      2561\n",
            "        Weak       0.92      0.70      0.79      2628\n",
            "\n",
            "    accuracy                           0.93     20000\n",
            "   macro avg       0.94      0.85      0.89     20000\n",
            "weighted avg       0.93      0.93      0.93     20000\n",
            "\n"
          ]
        }
      ],
      "source": [
        "model = RandomForestClassifier()\n",
        "model.fit(xtrain, ytrain)\n",
        "y_pred= model.predict(xtest)\n",
        "accuracy = accuracy_score(ytest, y_pred)\n",
        "print(\"Accuracy:\", accuracy)\n",
        "class_report= classification_report(ytest, y_pred)\n",
        "import joblib\n",
        "\n",
        "# Assume your model is in variable called clf or model\n",
        "joblib.dump(model, \"model.pkl\")\n",
        "print(\"Classification Report:\\n\", class_report)"
      ]
    },
    {
      "cell_type": "code",
      "source": [
        "import joblib\n",
        "\n",
        "# Assume your model is in variable called clf or model\n",
        "joblib.dump(tdif, \"tdif.pkl\")"
      ],
      "metadata": {
        "id": "i1eBG4WdXh5k"
      },
      "execution_count": null,
      "outputs": []
    }
  ],
  "metadata": {
    "colab": {
      "provenance": [],
      "include_colab_link": true
    },
    "kernelspec": {
      "display_name": "Python 3",
      "name": "python3"
    },
    "language_info": {
      "name": "python"
    }
  },
  "nbformat": 4,
  "nbformat_minor": 0
}
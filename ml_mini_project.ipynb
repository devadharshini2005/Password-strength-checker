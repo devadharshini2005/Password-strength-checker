{
  "cells": [
    {
      "cell_type": "markdown",
      "metadata": {
        "id": "view-in-github",
        "colab_type": "text"
      },
      "source": [
        "<a href=\"https://colab.research.google.com/github/devadharshini2005/Password-strength-checker/blob/main/ml_mini_project.ipynb\" target=\"_parent\"><img src=\"https://colab.research.google.com/assets/colab-badge.svg\" alt=\"Open In Colab\"/></a>"
      ]
    },
    {
      "cell_type": "code",
      "source": [
        "from google.colab import drive\n",
        "drive.mount('/content/drive')"
      ],
      "metadata": {
        "colab": {
          "base_uri": "https://localhost:8080/"
        },
        "id": "LvsDrwaRJc79",
        "outputId": "93f4ccaf-af32-4b02-b770-61090eb17e9e"
      },
      "execution_count": 4,
      "outputs": [
        {
          "output_type": "stream",
          "name": "stdout",
          "text": [
            "Mounted at /content/drive\n"
          ]
        }
      ]
    },
    {
      "cell_type": "code",
      "execution_count": 5,
      "metadata": {
        "id": "W8md3dwH_GHL"
      },
      "outputs": [],
      "source": [
        "import pandas as pd\n",
        "import numpy as np\n",
        "from sklearn.preprocessing import LabelEncoder\n",
        "from sklearn.model_selection import train_test_split\n",
        "from sklearn.tree import DecisionTreeClassifier\n",
        "from sklearn.feature_extraction.text import CountVectorizer\n",
        "from sklearn.feature_extraction.text import TfidfVectorizer\n",
        "from sklearn.metrics import f1_score,precision_score,recall_score,roc_curve,roc_auc_score\n",
        "from matplotlib import pyplot as plt\n",
        "from sklearn.preprocessing import StandardScaler\n",
        "from sklearn.neighbors import KNeighborsClassifier\n",
        "from sklearn.metrics import accuracy_score, classification_report,confusion_matrix\n",
        "import seaborn as sns\n",
        "from sklearn.svm import SVC\n",
        "from sklearn.ensemble import RandomForestClassifier\n",
        "from sklearn.metrics import accuracy_score\n",
        "from sklearn.linear_model import LinearRegression"
      ]
    },
    {
      "cell_type": "code",
      "execution_count": 6,
      "metadata": {
        "id": "VbHDckkb_K7i",
        "colab": {
          "base_uri": "https://localhost:8080/"
        },
        "outputId": "57cfc252-e4b4-4a55-a249-a4c162bc79c7"
      },
      "outputs": [
        {
          "output_type": "stream",
          "name": "stdout",
          "text": [
            "      password  strength\n",
            "0     kzde5577         1\n",
            "1     kino3434         1\n",
            "2    visi7k1yr         1\n",
            "3     megzy123         1\n",
            "4  lamborghin1         1\n"
          ]
        }
      ],
      "source": [
        "data = pd.read_csv(\"/content/drive/MyDrive/ML/Password_Strength_Checker Dataset.csv\")\n",
        "print(data.head())"
      ]
    },
    {
      "cell_type": "code",
      "execution_count": 7,
      "metadata": {
        "colab": {
          "base_uri": "https://localhost:8080/"
        },
        "id": "3T1qAe0o_Vup",
        "outputId": "80c5ac33-4d1a-436c-81a9-6e46170b47bc"
      },
      "outputs": [
        {
          "output_type": "stream",
          "name": "stdout",
          "text": [
            "               password strength\n",
            "638580  NoBUnAKEWoKo429   Strong\n",
            "367363      xknsqjmht09   Medium\n",
            "514320       hymuvyr978   Medium\n",
            "493547         yar76tyx   Medium\n",
            "299222        ltndjhf55   Medium\n"
          ]
        },
        {
          "output_type": "stream",
          "name": "stderr",
          "text": [
            "/tmp/ipython-input-7-1273898201.py:2: SettingWithCopyWarning: \n",
            "A value is trying to be set on a copy of a slice from a DataFrame.\n",
            "Try using .loc[row_indexer,col_indexer] = value instead\n",
            "\n",
            "See the caveats in the documentation: https://pandas.pydata.org/pandas-docs/stable/user_guide/indexing.html#returning-a-view-versus-a-copy\n",
            "  data[\"strength\"] = data[\"strength\"].map({0: \"Weak\",1: \"Medium\",2: \"Strong\"})\n"
          ]
        }
      ],
      "source": [
        "data = data.dropna()\n",
        "data[\"strength\"] = data[\"strength\"].map({0: \"Weak\",1: \"Medium\",2: \"Strong\"})\n",
        "print(data.sample(5))"
      ]
    },
    {
      "cell_type": "code",
      "execution_count": 8,
      "metadata": {
        "colab": {
          "base_uri": "https://localhost:8080/",
          "height": 147
        },
        "id": "0_I2BB2p_ZS8",
        "outputId": "071a8cf1-dbe1-44d6-d913-f758d1df4d34"
      },
      "outputs": [
        {
          "output_type": "execute_result",
          "data": {
            "text/plain": [
              "password    False\n",
              "strength    False\n",
              "dtype: bool"
            ],
            "text/html": [
              "<div>\n",
              "<style scoped>\n",
              "    .dataframe tbody tr th:only-of-type {\n",
              "        vertical-align: middle;\n",
              "    }\n",
              "\n",
              "    .dataframe tbody tr th {\n",
              "        vertical-align: top;\n",
              "    }\n",
              "\n",
              "    .dataframe thead th {\n",
              "        text-align: right;\n",
              "    }\n",
              "</style>\n",
              "<table border=\"1\" class=\"dataframe\">\n",
              "  <thead>\n",
              "    <tr style=\"text-align: right;\">\n",
              "      <th></th>\n",
              "      <th>0</th>\n",
              "    </tr>\n",
              "  </thead>\n",
              "  <tbody>\n",
              "    <tr>\n",
              "      <th>password</th>\n",
              "      <td>False</td>\n",
              "    </tr>\n",
              "    <tr>\n",
              "      <th>strength</th>\n",
              "      <td>False</td>\n",
              "    </tr>\n",
              "  </tbody>\n",
              "</table>\n",
              "</div><br><label><b>dtype:</b> bool</label>"
            ]
          },
          "metadata": {},
          "execution_count": 8
        }
      ],
      "source": [
        "data.isnull().any()"
      ]
    },
    {
      "cell_type": "code",
      "execution_count": 9,
      "metadata": {
        "colab": {
          "base_uri": "https://localhost:8080/"
        },
        "id": "glv0TLj-_dMR",
        "outputId": "bf9537f4-4991-43ab-eab8-62fc3901efe4"
      },
      "outputs": [
        {
          "output_type": "stream",
          "name": "stderr",
          "text": [
            "/usr/local/lib/python3.11/dist-packages/sklearn/feature_extraction/text.py:517: UserWarning: The parameter 'token_pattern' will not be used since 'tokenizer' is not None'\n",
            "  warnings.warn(\n"
          ]
        }
      ],
      "source": [
        "data_subset = data.sample(n=100000, random_state=42)\n",
        "\n",
        "\n",
        "x = np.array(data_subset[\"password\"])\n",
        "y = np.array(data_subset[\"strength\"])\n",
        "\n",
        "def word(password):\n",
        "    character = [i for i in password]\n",
        "    return character\n",
        "\n",
        "tdif = TfidfVectorizer(tokenizer=word)\n",
        "x = tdif.fit_transform(x)\n",
        "xtrain, xtest, ytrain, ytest = train_test_split(x, y, test_size=0.2, random_state=42)\n"
      ]
    },
    {
      "cell_type": "code",
      "execution_count": 10,
      "metadata": {
        "colab": {
          "base_uri": "https://localhost:8080/"
        },
        "id": "BMtu40zX_hma",
        "outputId": "7e08776f-bb64-45cf-99c2-0a90bd160c46"
      },
      "outputs": [
        {
          "output_type": "stream",
          "name": "stdout",
          "text": [
            "strength\n",
            "Medium    74323\n",
            "Weak      13339\n",
            "Strong    12338\n",
            "Name: count, dtype: int64\n"
          ]
        }
      ],
      "source": [
        "import pandas as pd\n",
        "strength_counts = pd.Series(data_subset[\"strength\"]).value_counts()\n",
        "print(strength_counts)"
      ]
    },
    {
      "cell_type": "code",
      "execution_count": 11,
      "metadata": {
        "colab": {
          "base_uri": "https://localhost:8080/"
        },
        "id": "wvZyYXmH_nQc",
        "outputId": "b9c5f3aa-c5c2-474e-9a1f-ebe105b111d5"
      },
      "outputs": [
        {
          "output_type": "stream",
          "name": "stdout",
          "text": [
            "0.7727\n",
            "Classification Report:\n",
            "               precision    recall  f1-score   support\n",
            "\n",
            "      Medium       0.81      0.92      0.86     14811\n",
            "      Strong       0.74      0.52      0.61      2561\n",
            "        Weak       0.39      0.19      0.25      2628\n",
            "\n",
            "    accuracy                           0.77     20000\n",
            "   macro avg       0.64      0.54      0.57     20000\n",
            "weighted avg       0.74      0.77      0.75     20000\n",
            "\n"
          ]
        }
      ],
      "source": [
        "knn_classifier = KNeighborsClassifier(n_neighbors=5)\n",
        "dt=knn_classifier.fit(xtrain, ytrain)\n",
        "print(knn_classifier.score(xtest, ytest))\n",
        "y_pred=knn_classifier.predict(xtest)\n",
        "class_report = classification_report(ytest, y_pred)\n",
        "\n",
        "import joblib\n",
        "\n",
        "# Assume your model is in variable called clf or model\n",
        "joblib.dump(knn_classifier, \"knn_classifier.pkl\")\n",
        "\n",
        "print(\"Classification Report:\\n\", class_report)"
      ]
    },
    {
      "cell_type": "code",
      "execution_count": 12,
      "metadata": {
        "colab": {
          "base_uri": "https://localhost:8080/"
        },
        "id": "pNq5X3oJ_oQf",
        "outputId": "f82d0876-991b-4f88-bea5-b09f35b9b729"
      },
      "outputs": [
        {
          "output_type": "stream",
          "name": "stdout",
          "text": [
            "0.81515\n",
            "Classification Report:\n",
            "               precision    recall  f1-score   support\n",
            "\n",
            "      Medium       0.81      0.97      0.89     14811\n",
            "      Strong       0.84      0.69      0.75      2561\n",
            "        Weak       0.73      0.05      0.09      2628\n",
            "\n",
            "    accuracy                           0.82     20000\n",
            "   macro avg       0.79      0.57      0.58     20000\n",
            "weighted avg       0.81      0.82      0.76     20000\n",
            "\n"
          ]
        }
      ],
      "source": [
        "svm_classifier = SVC(kernel='linear', C=1.0)\n",
        "svm_classifier.fit(xtrain, ytrain)\n",
        "y_pred = svm_classifier.predict(xtest)\n",
        "accuracy = accuracy_score(ytest, y_pred)\n",
        "print(accuracy)\n",
        "class_report = classification_report(ytest, y_pred)\n",
        "\n",
        "import joblib\n",
        "\n",
        "# Assume your model is in variable called clf or model\n",
        "joblib.dump(svm_classifier, \"svm_classifier.pkl\")\n",
        "\n",
        "print(\"Classification Report:\\n\", class_report)"
      ]
    },
    {
      "cell_type": "code",
      "execution_count": 13,
      "metadata": {
        "colab": {
          "base_uri": "https://localhost:8080/"
        },
        "id": "4_Bok8mM_ow0",
        "outputId": "882a9fa4-df4b-4ce8-a511-06abb34d3f15"
      },
      "outputs": [
        {
          "output_type": "stream",
          "name": "stdout",
          "text": [
            "0.88965\n",
            "Classification Report:\n",
            "               precision    recall  f1-score   support\n",
            "\n",
            "      Medium       0.93      0.93      0.93     14811\n",
            "      Strong       0.85      0.81      0.83      2561\n",
            "        Weak       0.71      0.73      0.72      2628\n",
            "\n",
            "    accuracy                           0.89     20000\n",
            "   macro avg       0.83      0.82      0.83     20000\n",
            "weighted avg       0.89      0.89      0.89     20000\n",
            "\n"
          ]
        }
      ],
      "source": [
        "dt=DecisionTreeClassifier(criterion=\"entropy\")\n",
        "dt.fit(xtrain,ytrain)\n",
        "y_pred=dt.predict(xtest)\n",
        "y_pred\n",
        "accuracy=accuracy_score(y_pred,ytest)\n",
        "print(accuracy)\n",
        "class_report = classification_report(ytest, y_pred)\n",
        "\n",
        "import joblib\n",
        "\n",
        "# Assume your model is in variable called clf or model\n",
        "joblib.dump(dt, \"dt.pkl\")\n",
        "\n",
        "\n",
        "print(\"Classification Report:\\n\", class_report)"
      ]
    },
    {
      "cell_type": "code",
      "execution_count": 14,
      "metadata": {
        "colab": {
          "base_uri": "https://localhost:8080/"
        },
        "id": "HSYcI6mn_uyr",
        "outputId": "d1baee9b-5b26-4f52-847c-b183d7c532ff"
      },
      "outputs": [
        {
          "output_type": "stream",
          "name": "stdout",
          "text": [
            "Accuracy: 0.93385\n",
            "Classification Report:\n",
            "               precision    recall  f1-score   support\n",
            "\n",
            "      Medium       0.93      0.98      0.96     14811\n",
            "      Strong       0.97      0.88      0.92      2561\n",
            "        Weak       0.92      0.71      0.80      2628\n",
            "\n",
            "    accuracy                           0.93     20000\n",
            "   macro avg       0.94      0.86      0.89     20000\n",
            "weighted avg       0.93      0.93      0.93     20000\n",
            "\n"
          ]
        }
      ],
      "source": [
        "model = RandomForestClassifier()\n",
        "model.fit(xtrain, ytrain)\n",
        "y_pred= model.predict(xtest)\n",
        "accuracy = accuracy_score(ytest, y_pred)\n",
        "print(\"Accuracy:\", accuracy)\n",
        "class_report= classification_report(ytest, y_pred)\n",
        "import joblib\n",
        "\n",
        "# Assume your model is in variable called clf or model\n",
        "joblib.dump(model, \"model.pkl\")\n",
        "print(\"Classification Report:\\n\", class_report)"
      ]
    },
    {
      "cell_type": "code",
      "execution_count": 15,
      "metadata": {
        "colab": {
          "base_uri": "https://localhost:8080/"
        },
        "id": "Ex8TUR5F_xUW",
        "outputId": "95b87da6-311f-466d-f0bd-e76987922569"
      },
      "outputs": [
        {
          "output_type": "stream",
          "name": "stdout",
          "text": [
            "Enter Password: ··········\n",
            "['Medium']\n"
          ]
        }
      ],
      "source": [
        "import getpass\n",
        "user = getpass.getpass(\"Enter Password: \")\n",
        "data = tdif.transform([user]).toarray()\n",
        "output = model.predict(data)\n",
        "print(output)"
      ]
    },
    {
      "cell_type": "code",
      "execution_count": 16,
      "metadata": {
        "id": "-hT58cxd2bit",
        "outputId": "6e4fa581-235c-42b6-dc9a-046838be9ab0",
        "colab": {
          "base_uri": "https://localhost:8080/"
        }
      },
      "outputs": [
        {
          "output_type": "execute_result",
          "data": {
            "text/plain": [
              "['tdif.pkl']"
            ]
          },
          "metadata": {},
          "execution_count": 16
        }
      ],
      "source": [
        "import joblib\n",
        "\n",
        "# Assume your model is in variable called clf or model\n",
        "joblib.dump(tdif, \"tdif.pkl\")"
      ]
    }
  ],
  "metadata": {
    "colab": {
      "provenance": [],
      "include_colab_link": true
    },
    "kernelspec": {
      "display_name": "Python 3",
      "name": "python3"
    },
    "language_info": {
      "name": "python"
    }
  },
  "nbformat": 4,
  "nbformat_minor": 0
}